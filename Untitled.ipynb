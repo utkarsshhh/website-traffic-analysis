{
 "cells": [
  {
   "cell_type": "code",
   "execution_count": 1,
   "id": "b61d4721",
   "metadata": {},
   "outputs": [],
   "source": [
    "import pandas as pd\n",
    "import scipy\n",
    "import matplotlib.pyplot as plt\n",
    "import datetime\n",
    "from datetime import datetime"
   ]
  },
  {
   "cell_type": "code",
   "execution_count": 2,
   "id": "05448f86",
   "metadata": {},
   "outputs": [],
   "source": [
    "df = pd.read_csv(\"datasets/traffic.csv\")"
   ]
  },
  {
   "cell_type": "code",
   "execution_count": 3,
   "id": "228ebb76",
   "metadata": {},
   "outputs": [
    {
     "data": {
      "text/html": [
       "<div>\n",
       "<style scoped>\n",
       "    .dataframe tbody tr th:only-of-type {\n",
       "        vertical-align: middle;\n",
       "    }\n",
       "\n",
       "    .dataframe tbody tr th {\n",
       "        vertical-align: top;\n",
       "    }\n",
       "\n",
       "    .dataframe thead th {\n",
       "        text-align: right;\n",
       "    }\n",
       "</style>\n",
       "<table border=\"1\" class=\"dataframe\">\n",
       "  <thead>\n",
       "    <tr style=\"text-align: right;\">\n",
       "      <th></th>\n",
       "      <th>event</th>\n",
       "      <th>date</th>\n",
       "      <th>country</th>\n",
       "      <th>city</th>\n",
       "      <th>artist</th>\n",
       "      <th>album</th>\n",
       "      <th>track</th>\n",
       "      <th>isrc</th>\n",
       "      <th>linkid</th>\n",
       "    </tr>\n",
       "  </thead>\n",
       "  <tbody>\n",
       "    <tr>\n",
       "      <th>0</th>\n",
       "      <td>click</td>\n",
       "      <td>2021-08-21</td>\n",
       "      <td>Saudi Arabia</td>\n",
       "      <td>Jeddah</td>\n",
       "      <td>Tesher</td>\n",
       "      <td>Jalebi Baby</td>\n",
       "      <td>Jalebi Baby</td>\n",
       "      <td>QZNWQ2070741</td>\n",
       "      <td>2d896d31-97b6-4869-967b-1c5fb9cd4bb8</td>\n",
       "    </tr>\n",
       "    <tr>\n",
       "      <th>1</th>\n",
       "      <td>click</td>\n",
       "      <td>2021-08-21</td>\n",
       "      <td>Saudi Arabia</td>\n",
       "      <td>Jeddah</td>\n",
       "      <td>Tesher</td>\n",
       "      <td>Jalebi Baby</td>\n",
       "      <td>Jalebi Baby</td>\n",
       "      <td>QZNWQ2070741</td>\n",
       "      <td>2d896d31-97b6-4869-967b-1c5fb9cd4bb8</td>\n",
       "    </tr>\n",
       "    <tr>\n",
       "      <th>2</th>\n",
       "      <td>click</td>\n",
       "      <td>2021-08-21</td>\n",
       "      <td>India</td>\n",
       "      <td>Ludhiana</td>\n",
       "      <td>Reyanna Maria</td>\n",
       "      <td>So Pretty</td>\n",
       "      <td>So Pretty</td>\n",
       "      <td>USUM72100871</td>\n",
       "      <td>23199824-9cf5-4b98-942a-34965c3b0cc2</td>\n",
       "    </tr>\n",
       "    <tr>\n",
       "      <th>3</th>\n",
       "      <td>click</td>\n",
       "      <td>2021-08-21</td>\n",
       "      <td>France</td>\n",
       "      <td>Unknown</td>\n",
       "      <td>Simone &amp; Simaria, Sebastian Yatra</td>\n",
       "      <td>No Llores Más</td>\n",
       "      <td>No Llores Más</td>\n",
       "      <td>BRUM72003904</td>\n",
       "      <td>35573248-4e49-47c7-af80-08a960fa74cd</td>\n",
       "    </tr>\n",
       "    <tr>\n",
       "      <th>4</th>\n",
       "      <td>click</td>\n",
       "      <td>2021-08-21</td>\n",
       "      <td>Maldives</td>\n",
       "      <td>Malé</td>\n",
       "      <td>Tesher</td>\n",
       "      <td>Jalebi Baby</td>\n",
       "      <td>Jalebi Baby</td>\n",
       "      <td>QZNWQ2070741</td>\n",
       "      <td>2d896d31-97b6-4869-967b-1c5fb9cd4bb8</td>\n",
       "    </tr>\n",
       "  </tbody>\n",
       "</table>\n",
       "</div>"
      ],
      "text/plain": [
       "   event        date       country      city  \\\n",
       "0  click  2021-08-21  Saudi Arabia    Jeddah   \n",
       "1  click  2021-08-21  Saudi Arabia    Jeddah   \n",
       "2  click  2021-08-21         India  Ludhiana   \n",
       "3  click  2021-08-21        France   Unknown   \n",
       "4  click  2021-08-21      Maldives      Malé   \n",
       "\n",
       "                              artist          album          track  \\\n",
       "0                             Tesher    Jalebi Baby    Jalebi Baby   \n",
       "1                             Tesher    Jalebi Baby    Jalebi Baby   \n",
       "2                      Reyanna Maria      So Pretty      So Pretty   \n",
       "3  Simone & Simaria, Sebastian Yatra  No Llores Más  No Llores Más   \n",
       "4                             Tesher    Jalebi Baby    Jalebi Baby   \n",
       "\n",
       "           isrc                                linkid  \n",
       "0  QZNWQ2070741  2d896d31-97b6-4869-967b-1c5fb9cd4bb8  \n",
       "1  QZNWQ2070741  2d896d31-97b6-4869-967b-1c5fb9cd4bb8  \n",
       "2  USUM72100871  23199824-9cf5-4b98-942a-34965c3b0cc2  \n",
       "3  BRUM72003904  35573248-4e49-47c7-af80-08a960fa74cd  \n",
       "4  QZNWQ2070741  2d896d31-97b6-4869-967b-1c5fb9cd4bb8  "
      ]
     },
     "execution_count": 3,
     "metadata": {},
     "output_type": "execute_result"
    }
   ],
   "source": [
    "df.head()"
   ]
  },
  {
   "cell_type": "code",
   "execution_count": 4,
   "id": "e63dc5d5",
   "metadata": {},
   "outputs": [
    {
     "data": {
      "text/plain": [
       "(226278, 9)"
      ]
     },
     "execution_count": 4,
     "metadata": {},
     "output_type": "execute_result"
    }
   ],
   "source": [
    "df.shape"
   ]
  },
  {
   "cell_type": "code",
   "execution_count": 5,
   "id": "aac5abb1",
   "metadata": {},
   "outputs": [
    {
     "data": {
      "text/plain": [
       "pageview    142015\n",
       "click        55732\n",
       "preview      28531\n",
       "Name: event, dtype: int64"
      ]
     },
     "execution_count": 5,
     "metadata": {},
     "output_type": "execute_result"
    }
   ],
   "source": [
    "df['event'].value_counts()"
   ]
  },
  {
   "cell_type": "markdown",
   "id": "a8613bb2",
   "metadata": {},
   "source": [
    "### We can see in the table above that the total number of pageview events are 142015"
   ]
  },
  {
   "cell_type": "code",
   "execution_count": 6,
   "id": "cee5e07e",
   "metadata": {},
   "outputs": [
    {
     "data": {
      "text/plain": [
       "dtype('O')"
      ]
     },
     "execution_count": 6,
     "metadata": {},
     "output_type": "execute_result"
    }
   ],
   "source": [
    "df['date'].dtype"
   ]
  },
  {
   "cell_type": "code",
   "execution_count": 7,
   "id": "f8ae5d71",
   "metadata": {},
   "outputs": [
    {
     "data": {
      "text/plain": [
       "event         0\n",
       "date          0\n",
       "country      11\n",
       "city         11\n",
       "artist       37\n",
       "album         5\n",
       "track         5\n",
       "isrc       7121\n",
       "linkid        0\n",
       "dtype: int64"
      ]
     },
     "execution_count": 7,
     "metadata": {},
     "output_type": "execute_result"
    }
   ],
   "source": [
    "df.isnull().sum()"
   ]
  },
  {
   "cell_type": "code",
   "execution_count": 8,
   "id": "e37a7ec7",
   "metadata": {},
   "outputs": [],
   "source": [
    "df['date'] = df['date'].apply(lambda x: datetime.strptime(x,'%Y-%m-%d'))"
   ]
  },
  {
   "cell_type": "code",
   "execution_count": 9,
   "id": "ddc24a55",
   "metadata": {},
   "outputs": [
    {
     "data": {
      "text/plain": [
       "dtype('<M8[ns]')"
      ]
     },
     "execution_count": 9,
     "metadata": {},
     "output_type": "execute_result"
    }
   ],
   "source": [
    "df['date'].dtype"
   ]
  },
  {
   "cell_type": "code",
   "execution_count": 10,
   "id": "11824181",
   "metadata": {},
   "outputs": [],
   "source": [
    "pageview_events_per_day = df[df['event']=='pageview'][['date','event']].groupby(by = 'date').count()"
   ]
  },
  {
   "cell_type": "code",
   "execution_count": 11,
   "id": "4c9c0f1e",
   "metadata": {},
   "outputs": [
    {
     "data": {
      "text/plain": [
       "date\n",
       "2021-08-19    22366\n",
       "2021-08-20    21382\n",
       "2021-08-21    21349\n",
       "2021-08-22    20430\n",
       "2021-08-23    18646\n",
       "2021-08-24    18693\n",
       "2021-08-25    19149\n",
       "Name: event, dtype: int64"
      ]
     },
     "execution_count": 11,
     "metadata": {},
     "output_type": "execute_result"
    }
   ],
   "source": [
    "pageview_events_per_day['event']"
   ]
  },
  {
   "cell_type": "markdown",
   "id": "cbe476e6",
   "metadata": {},
   "source": [
    "### The above table represents the number of pageview events on each date"
   ]
  },
  {
   "cell_type": "code",
   "execution_count": 12,
   "id": "b0351190",
   "metadata": {},
   "outputs": [],
   "source": [
    "events_per_day = df[df['event']!=\"pageview\"][['event','date','linkid']].groupby(by = ['event','date']).count()"
   ]
  },
  {
   "cell_type": "code",
   "execution_count": 13,
   "id": "b4b8aba1",
   "metadata": {},
   "outputs": [
    {
     "data": {
      "text/html": [
       "<div>\n",
       "<style scoped>\n",
       "    .dataframe tbody tr th:only-of-type {\n",
       "        vertical-align: middle;\n",
       "    }\n",
       "\n",
       "    .dataframe tbody tr th {\n",
       "        vertical-align: top;\n",
       "    }\n",
       "\n",
       "    .dataframe thead th {\n",
       "        text-align: right;\n",
       "    }\n",
       "</style>\n",
       "<table border=\"1\" class=\"dataframe\">\n",
       "  <thead>\n",
       "    <tr style=\"text-align: right;\">\n",
       "      <th></th>\n",
       "      <th></th>\n",
       "      <th>linkid</th>\n",
       "    </tr>\n",
       "    <tr>\n",
       "      <th>event</th>\n",
       "      <th>date</th>\n",
       "      <th></th>\n",
       "    </tr>\n",
       "  </thead>\n",
       "  <tbody>\n",
       "    <tr>\n",
       "      <th rowspan=\"7\" valign=\"top\">click</th>\n",
       "      <th>2021-08-19</th>\n",
       "      <td>9207</td>\n",
       "    </tr>\n",
       "    <tr>\n",
       "      <th>2021-08-20</th>\n",
       "      <td>8508</td>\n",
       "    </tr>\n",
       "    <tr>\n",
       "      <th>2021-08-21</th>\n",
       "      <td>8071</td>\n",
       "    </tr>\n",
       "    <tr>\n",
       "      <th>2021-08-22</th>\n",
       "      <td>7854</td>\n",
       "    </tr>\n",
       "    <tr>\n",
       "      <th>2021-08-23</th>\n",
       "      <td>7315</td>\n",
       "    </tr>\n",
       "    <tr>\n",
       "      <th>2021-08-24</th>\n",
       "      <td>7301</td>\n",
       "    </tr>\n",
       "    <tr>\n",
       "      <th>2021-08-25</th>\n",
       "      <td>7476</td>\n",
       "    </tr>\n",
       "    <tr>\n",
       "      <th rowspan=\"7\" valign=\"top\">preview</th>\n",
       "      <th>2021-08-19</th>\n",
       "      <td>3788</td>\n",
       "    </tr>\n",
       "    <tr>\n",
       "      <th>2021-08-20</th>\n",
       "      <td>4222</td>\n",
       "    </tr>\n",
       "    <tr>\n",
       "      <th>2021-08-21</th>\n",
       "      <td>4663</td>\n",
       "    </tr>\n",
       "    <tr>\n",
       "      <th>2021-08-22</th>\n",
       "      <td>4349</td>\n",
       "    </tr>\n",
       "    <tr>\n",
       "      <th>2021-08-23</th>\n",
       "      <td>3847</td>\n",
       "    </tr>\n",
       "    <tr>\n",
       "      <th>2021-08-24</th>\n",
       "      <td>3840</td>\n",
       "    </tr>\n",
       "    <tr>\n",
       "      <th>2021-08-25</th>\n",
       "      <td>3822</td>\n",
       "    </tr>\n",
       "  </tbody>\n",
       "</table>\n",
       "</div>"
      ],
      "text/plain": [
       "                    linkid\n",
       "event   date              \n",
       "click   2021-08-19    9207\n",
       "        2021-08-20    8508\n",
       "        2021-08-21    8071\n",
       "        2021-08-22    7854\n",
       "        2021-08-23    7315\n",
       "        2021-08-24    7301\n",
       "        2021-08-25    7476\n",
       "preview 2021-08-19    3788\n",
       "        2021-08-20    4222\n",
       "        2021-08-21    4663\n",
       "        2021-08-22    4349\n",
       "        2021-08-23    3847\n",
       "        2021-08-24    3840\n",
       "        2021-08-25    3822"
      ]
     },
     "execution_count": 13,
     "metadata": {},
     "output_type": "execute_result"
    }
   ],
   "source": [
    "events_per_day"
   ]
  },
  {
   "cell_type": "markdown",
   "id": "be8b871d",
   "metadata": {},
   "source": [
    "### In the table above we can see the count of each event recorded on each date"
   ]
  },
  {
   "cell_type": "code",
   "execution_count": 14,
   "id": "f213db40",
   "metadata": {},
   "outputs": [],
   "source": [
    "pageview_countries = df[df['event']=='pageview']['country'].unique()"
   ]
  },
  {
   "cell_type": "code",
   "execution_count": 15,
   "id": "cf80ba2d",
   "metadata": {},
   "outputs": [
    {
     "data": {
      "text/plain": [
       "array(['Saudi Arabia', 'United States', 'Ireland', 'United Kingdom',\n",
       "       'France', 'Guatemala', 'Jordan', 'Kuwait', 'Pakistan', 'Italy',\n",
       "       'Germany', 'Iraq', 'Peru', 'India', 'Nicaragua', 'Rwanda',\n",
       "       'Tanzania', 'United Arab Emirates', 'Norway', 'Oman', 'Bahamas',\n",
       "       'Algeria', 'Czechia', 'Mexico', 'Jamaica', 'Netherlands',\n",
       "       'Colombia', 'Morocco', 'Australia', 'Myanmar', 'Uzbekistan',\n",
       "       'Austria', 'Latvia', 'Turkey', 'Mauritania', 'Sri Lanka',\n",
       "       'Bosnia and Herzegovina', 'Estonia', 'Nigeria', 'Bulgaria',\n",
       "       'Greece', 'El Salvador', 'Philippines', 'Denmark', 'Serbia',\n",
       "       'Canada', 'Spain', 'Libya', 'Palestine', 'Chad', 'Ecuador', 'Mali',\n",
       "       'Romania', 'Switzerland', 'Portugal', 'Slovenia', 'Iceland',\n",
       "       'Sweden', 'Bahrain', 'Egypt', 'Lithuania', 'Liberia', 'Israel',\n",
       "       'Ukraine', 'Puerto Rico', 'South Africa', 'Ghana', 'Kenya',\n",
       "       'Armenia', 'Nepal', 'Barbados', 'Azerbaijan', 'Qatar', 'Uganda',\n",
       "       'Poland', 'Brazil', 'Guyana', 'Fiji', 'Bangladesh', 'Belgium',\n",
       "       'Hong Kong', 'Haiti', 'Botswana', 'Ivory Coast', 'Bhutan',\n",
       "       'Indonesia', 'Réunion', 'Cameroon', 'Singapore', 'Yemen',\n",
       "       'French Guiana', 'Slovakia', 'Dominican Republic', 'Russia',\n",
       "       'Cabo Verde', 'Kyrgyzstan', 'New Zealand', 'U.S. Virgin Islands',\n",
       "       'Albania', 'Venezuela', 'Burkina Faso', 'Montenegro', 'Paraguay',\n",
       "       'Bolivia', 'Cyprus', 'Mayotte', 'Thailand', 'Maldives', 'Tunisia',\n",
       "       'Namibia', 'Costa Rica', 'Croatia', 'Trinidad and Tobago',\n",
       "       'Senegal', 'Suriname', 'Malaysia', 'Honduras', 'DR Congo',\n",
       "       'South Korea', 'Finland', 'Mozambique', 'Hungary', 'Kazakhstan',\n",
       "       'Zambia', 'Somalia', 'Moldova', 'Cayman Islands',\n",
       "       'Saint Vincent and the Grenadines', 'Martinique', 'Guadeloupe',\n",
       "       'Kosovo', 'Sudan', 'Saint Lucia', 'Uruguay', nan, 'Mauritius',\n",
       "       'Aruba', 'Curaçao', 'British Virgin Islands', 'Vietnam', 'Laos',\n",
       "       'Sierra Leone', 'Seychelles', 'Guinea', 'Lebanon', 'Angola',\n",
       "       'Belize', 'Togo', 'Turks and Caicos Islands', 'Georgia', 'Gabon',\n",
       "       'Argentina', 'North Macedonia', 'Benin', 'Ethiopia', 'Niger',\n",
       "       'Zimbabwe', 'St Kitts and Nevis', 'Malawi', 'Chile', 'Madagascar',\n",
       "       'Panama', 'Luxembourg', 'Grenada', 'Greenland', 'Mongolia',\n",
       "       'Taiwan', 'Liechtenstein', 'Anguilla', 'Principality of Monaco',\n",
       "       'Djibouti', 'Samoa', 'Åland', 'Eswatini', 'Faroe Islands',\n",
       "       'Cambodia', 'China', 'French Polynesia', 'Papua New Guinea',\n",
       "       'Japan', 'Lesotho', 'Eritrea', 'Iran', 'Antigua and Barbuda',\n",
       "       'Burundi', 'Belarus', 'Guinea-Bissau', 'Bermuda', 'Gambia',\n",
       "       'Isle of Man', 'American Samoa', 'Tajikistan', 'Comoros', 'Jersey',\n",
       "       'Andorra', 'Brunei', 'Congo Republic', 'Syria', 'Dominica',\n",
       "       'New Caledonia', 'Marshall Islands', 'Macao', 'Gibraltar', 'Palau',\n",
       "       'Solomon Islands', 'Malta', 'Wallis and Futuna', 'Afghanistan',\n",
       "       'Central African Republic', 'Guernsey', 'Sint Maarten',\n",
       "       'Saint Martin'], dtype=object)"
      ]
     },
     "execution_count": 15,
     "metadata": {},
     "output_type": "execute_result"
    }
   ],
   "source": [
    "pageview_countries"
   ]
  },
  {
   "cell_type": "markdown",
   "id": "6b54463a",
   "metadata": {},
   "source": [
    "### The above array displays the list of all the countries from where a pageview event has been recorded"
   ]
  },
  {
   "cell_type": "code",
   "execution_count": 16,
   "id": "cd4a1721",
   "metadata": {},
   "outputs": [],
   "source": [
    "click_rate = df[df['event']=='click'].shape[0]/df[df['event']=='pageview'].shape[0]"
   ]
  },
  {
   "cell_type": "code",
   "execution_count": 17,
   "id": "bff7530b",
   "metadata": {},
   "outputs": [
    {
     "data": {
      "text/plain": [
       "0.3924374185825441"
      ]
     },
     "execution_count": 17,
     "metadata": {},
     "output_type": "execute_result"
    }
   ],
   "source": [
    "click_rate"
   ]
  },
  {
   "cell_type": "code",
   "execution_count": 18,
   "id": "2ac6e8db",
   "metadata": {},
   "outputs": [],
   "source": [
    "events_per_link_click = df[df['event']=='click'][['linkid','event']].groupby(by = ['linkid']).count()"
   ]
  },
  {
   "cell_type": "code",
   "execution_count": 19,
   "id": "2720fcf4",
   "metadata": {},
   "outputs": [
    {
     "data": {
      "text/html": [
       "<div>\n",
       "<style scoped>\n",
       "    .dataframe tbody tr th:only-of-type {\n",
       "        vertical-align: middle;\n",
       "    }\n",
       "\n",
       "    .dataframe tbody tr th {\n",
       "        vertical-align: top;\n",
       "    }\n",
       "\n",
       "    .dataframe thead th {\n",
       "        text-align: right;\n",
       "    }\n",
       "</style>\n",
       "<table border=\"1\" class=\"dataframe\">\n",
       "  <thead>\n",
       "    <tr style=\"text-align: right;\">\n",
       "      <th></th>\n",
       "      <th>event</th>\n",
       "    </tr>\n",
       "    <tr>\n",
       "      <th>linkid</th>\n",
       "      <th></th>\n",
       "    </tr>\n",
       "  </thead>\n",
       "  <tbody>\n",
       "    <tr>\n",
       "      <th>00126b32-0c35-507b-981c-02c80d2aa8e7</th>\n",
       "      <td>2</td>\n",
       "    </tr>\n",
       "    <tr>\n",
       "      <th>004b9724-abca-5481-b6e9-6148a7ca00a5</th>\n",
       "      <td>1</td>\n",
       "    </tr>\n",
       "    <tr>\n",
       "      <th>0063a982-41cd-5629-96d0-e1c4dd72ea11</th>\n",
       "      <td>2</td>\n",
       "    </tr>\n",
       "    <tr>\n",
       "      <th>006af6a0-1f0d-4b0c-93bf-756af9071c06</th>\n",
       "      <td>8</td>\n",
       "    </tr>\n",
       "    <tr>\n",
       "      <th>00759b81-3f04-4a61-b934-f8fb3185f4a0</th>\n",
       "      <td>3</td>\n",
       "    </tr>\n",
       "    <tr>\n",
       "      <th>...</th>\n",
       "      <td>...</td>\n",
       "    </tr>\n",
       "    <tr>\n",
       "      <th>ffd8d5a7-91bc-48e1-a692-c26fca8a8ead</th>\n",
       "      <td>29</td>\n",
       "    </tr>\n",
       "    <tr>\n",
       "      <th>fff38ca0-8043-50cd-a5f1-f65ebb7105c5</th>\n",
       "      <td>1</td>\n",
       "    </tr>\n",
       "    <tr>\n",
       "      <th>fff84c0e-90a1-59d8-9997-adc909d50e16</th>\n",
       "      <td>1</td>\n",
       "    </tr>\n",
       "    <tr>\n",
       "      <th>fffc17a7-f935-5d3e-bd3e-d761fd80d479</th>\n",
       "      <td>1</td>\n",
       "    </tr>\n",
       "    <tr>\n",
       "      <th>fffd0045-29de-522b-b5d8-35786363bf07</th>\n",
       "      <td>1</td>\n",
       "    </tr>\n",
       "  </tbody>\n",
       "</table>\n",
       "<p>2255 rows × 1 columns</p>\n",
       "</div>"
      ],
      "text/plain": [
       "                                      event\n",
       "linkid                                     \n",
       "00126b32-0c35-507b-981c-02c80d2aa8e7      2\n",
       "004b9724-abca-5481-b6e9-6148a7ca00a5      1\n",
       "0063a982-41cd-5629-96d0-e1c4dd72ea11      2\n",
       "006af6a0-1f0d-4b0c-93bf-756af9071c06      8\n",
       "00759b81-3f04-4a61-b934-f8fb3185f4a0      3\n",
       "...                                     ...\n",
       "ffd8d5a7-91bc-48e1-a692-c26fca8a8ead     29\n",
       "fff38ca0-8043-50cd-a5f1-f65ebb7105c5      1\n",
       "fff84c0e-90a1-59d8-9997-adc909d50e16      1\n",
       "fffc17a7-f935-5d3e-bd3e-d761fd80d479      1\n",
       "fffd0045-29de-522b-b5d8-35786363bf07      1\n",
       "\n",
       "[2255 rows x 1 columns]"
      ]
     },
     "execution_count": 19,
     "metadata": {},
     "output_type": "execute_result"
    }
   ],
   "source": [
    "events_per_link_click"
   ]
  },
  {
   "cell_type": "code",
   "execution_count": 20,
   "id": "bffd2815",
   "metadata": {},
   "outputs": [],
   "source": [
    "event_per_link_view = df[df['event']=='pageview'][['linkid','event']].groupby(by = ['linkid']).count()"
   ]
  },
  {
   "cell_type": "code",
   "execution_count": 21,
   "id": "472d8ee4",
   "metadata": {},
   "outputs": [
    {
     "data": {
      "text/html": [
       "<div>\n",
       "<style scoped>\n",
       "    .dataframe tbody tr th:only-of-type {\n",
       "        vertical-align: middle;\n",
       "    }\n",
       "\n",
       "    .dataframe tbody tr th {\n",
       "        vertical-align: top;\n",
       "    }\n",
       "\n",
       "    .dataframe thead th {\n",
       "        text-align: right;\n",
       "    }\n",
       "</style>\n",
       "<table border=\"1\" class=\"dataframe\">\n",
       "  <thead>\n",
       "    <tr style=\"text-align: right;\">\n",
       "      <th></th>\n",
       "      <th>event</th>\n",
       "    </tr>\n",
       "    <tr>\n",
       "      <th>linkid</th>\n",
       "      <th></th>\n",
       "    </tr>\n",
       "  </thead>\n",
       "  <tbody>\n",
       "    <tr>\n",
       "      <th>00073307-ae96-5089-a117-4783afb42f8e</th>\n",
       "      <td>2</td>\n",
       "    </tr>\n",
       "    <tr>\n",
       "      <th>00126b32-0c35-507b-981c-02c80d2aa8e7</th>\n",
       "      <td>2</td>\n",
       "    </tr>\n",
       "    <tr>\n",
       "      <th>0018cfff-50a1-5984-9715-01ef2d11a49a</th>\n",
       "      <td>1</td>\n",
       "    </tr>\n",
       "    <tr>\n",
       "      <th>0033934b-5d16-5a06-af58-d087bcdd3680</th>\n",
       "      <td>1</td>\n",
       "    </tr>\n",
       "    <tr>\n",
       "      <th>0034d6cf-3bd8-5ffe-aafc-b3959fc48608</th>\n",
       "      <td>1</td>\n",
       "    </tr>\n",
       "    <tr>\n",
       "      <th>...</th>\n",
       "      <td>...</td>\n",
       "    </tr>\n",
       "    <tr>\n",
       "      <th>fff38ca0-8043-50cd-a5f1-f65ebb7105c5</th>\n",
       "      <td>1</td>\n",
       "    </tr>\n",
       "    <tr>\n",
       "      <th>fff4e5f0-4ee5-5fe7-aa30-e870edaf6ed7</th>\n",
       "      <td>2</td>\n",
       "    </tr>\n",
       "    <tr>\n",
       "      <th>fff84c0e-90a1-59d8-9997-adc909d50e16</th>\n",
       "      <td>1</td>\n",
       "    </tr>\n",
       "    <tr>\n",
       "      <th>fffc17a7-f935-5d3e-bd3e-d761fd80d479</th>\n",
       "      <td>2</td>\n",
       "    </tr>\n",
       "    <tr>\n",
       "      <th>fffd0045-29de-522b-b5d8-35786363bf07</th>\n",
       "      <td>2</td>\n",
       "    </tr>\n",
       "  </tbody>\n",
       "</table>\n",
       "<p>3837 rows × 1 columns</p>\n",
       "</div>"
      ],
      "text/plain": [
       "                                      event\n",
       "linkid                                     \n",
       "00073307-ae96-5089-a117-4783afb42f8e      2\n",
       "00126b32-0c35-507b-981c-02c80d2aa8e7      2\n",
       "0018cfff-50a1-5984-9715-01ef2d11a49a      1\n",
       "0033934b-5d16-5a06-af58-d087bcdd3680      1\n",
       "0034d6cf-3bd8-5ffe-aafc-b3959fc48608      1\n",
       "...                                     ...\n",
       "fff38ca0-8043-50cd-a5f1-f65ebb7105c5      1\n",
       "fff4e5f0-4ee5-5fe7-aa30-e870edaf6ed7      2\n",
       "fff84c0e-90a1-59d8-9997-adc909d50e16      1\n",
       "fffc17a7-f935-5d3e-bd3e-d761fd80d479      2\n",
       "fffd0045-29de-522b-b5d8-35786363bf07      2\n",
       "\n",
       "[3837 rows x 1 columns]"
      ]
     },
     "execution_count": 21,
     "metadata": {},
     "output_type": "execute_result"
    }
   ],
   "source": [
    "event_per_link_view"
   ]
  },
  {
   "cell_type": "code",
   "execution_count": 22,
   "id": "31f3b7fa",
   "metadata": {},
   "outputs": [],
   "source": [
    "rate_per_link = events_per_link_click/event_per_link_view"
   ]
  },
  {
   "cell_type": "code",
   "execution_count": 23,
   "id": "418a1f2e",
   "metadata": {},
   "outputs": [
    {
     "data": {
      "text/html": [
       "<div>\n",
       "<style scoped>\n",
       "    .dataframe tbody tr th:only-of-type {\n",
       "        vertical-align: middle;\n",
       "    }\n",
       "\n",
       "    .dataframe tbody tr th {\n",
       "        vertical-align: top;\n",
       "    }\n",
       "\n",
       "    .dataframe thead th {\n",
       "        text-align: right;\n",
       "    }\n",
       "</style>\n",
       "<table border=\"1\" class=\"dataframe\">\n",
       "  <thead>\n",
       "    <tr style=\"text-align: right;\">\n",
       "      <th></th>\n",
       "      <th>event</th>\n",
       "    </tr>\n",
       "    <tr>\n",
       "      <th>linkid</th>\n",
       "      <th></th>\n",
       "    </tr>\n",
       "  </thead>\n",
       "  <tbody>\n",
       "    <tr>\n",
       "      <th>00073307-ae96-5089-a117-4783afb42f8e</th>\n",
       "      <td>NaN</td>\n",
       "    </tr>\n",
       "    <tr>\n",
       "      <th>00126b32-0c35-507b-981c-02c80d2aa8e7</th>\n",
       "      <td>1.0</td>\n",
       "    </tr>\n",
       "    <tr>\n",
       "      <th>0018cfff-50a1-5984-9715-01ef2d11a49a</th>\n",
       "      <td>NaN</td>\n",
       "    </tr>\n",
       "    <tr>\n",
       "      <th>0033934b-5d16-5a06-af58-d087bcdd3680</th>\n",
       "      <td>NaN</td>\n",
       "    </tr>\n",
       "    <tr>\n",
       "      <th>0034d6cf-3bd8-5ffe-aafc-b3959fc48608</th>\n",
       "      <td>NaN</td>\n",
       "    </tr>\n",
       "    <tr>\n",
       "      <th>...</th>\n",
       "      <td>...</td>\n",
       "    </tr>\n",
       "    <tr>\n",
       "      <th>fff38ca0-8043-50cd-a5f1-f65ebb7105c5</th>\n",
       "      <td>1.0</td>\n",
       "    </tr>\n",
       "    <tr>\n",
       "      <th>fff4e5f0-4ee5-5fe7-aa30-e870edaf6ed7</th>\n",
       "      <td>NaN</td>\n",
       "    </tr>\n",
       "    <tr>\n",
       "      <th>fff84c0e-90a1-59d8-9997-adc909d50e16</th>\n",
       "      <td>1.0</td>\n",
       "    </tr>\n",
       "    <tr>\n",
       "      <th>fffc17a7-f935-5d3e-bd3e-d761fd80d479</th>\n",
       "      <td>0.5</td>\n",
       "    </tr>\n",
       "    <tr>\n",
       "      <th>fffd0045-29de-522b-b5d8-35786363bf07</th>\n",
       "      <td>0.5</td>\n",
       "    </tr>\n",
       "  </tbody>\n",
       "</table>\n",
       "<p>3839 rows × 1 columns</p>\n",
       "</div>"
      ],
      "text/plain": [
       "                                      event\n",
       "linkid                                     \n",
       "00073307-ae96-5089-a117-4783afb42f8e    NaN\n",
       "00126b32-0c35-507b-981c-02c80d2aa8e7    1.0\n",
       "0018cfff-50a1-5984-9715-01ef2d11a49a    NaN\n",
       "0033934b-5d16-5a06-af58-d087bcdd3680    NaN\n",
       "0034d6cf-3bd8-5ffe-aafc-b3959fc48608    NaN\n",
       "...                                     ...\n",
       "fff38ca0-8043-50cd-a5f1-f65ebb7105c5    1.0\n",
       "fff4e5f0-4ee5-5fe7-aa30-e870edaf6ed7    NaN\n",
       "fff84c0e-90a1-59d8-9997-adc909d50e16    1.0\n",
       "fffc17a7-f935-5d3e-bd3e-d761fd80d479    0.5\n",
       "fffd0045-29de-522b-b5d8-35786363bf07    0.5\n",
       "\n",
       "[3839 rows x 1 columns]"
      ]
     },
     "execution_count": 23,
     "metadata": {},
     "output_type": "execute_result"
    }
   ],
   "source": [
    "rate_per_link"
   ]
  },
  {
   "cell_type": "markdown",
   "id": "db71996b",
   "metadata": {},
   "source": [
    "### In the above table we ahve the click rate for each link. As we see that some of rates are mentioned as NaN, that is the case when there is either event missing from the link"
   ]
  },
  {
   "cell_type": "code",
   "execution_count": null,
   "id": "d511cbc9",
   "metadata": {},
   "outputs": [],
   "source": []
  },
  {
   "cell_type": "code",
   "execution_count": null,
   "id": "993b86de",
   "metadata": {},
   "outputs": [],
   "source": []
  }
 ],
 "metadata": {
  "kernelspec": {
   "display_name": "Python 3 (ipykernel)",
   "language": "python",
   "name": "python3"
  },
  "language_info": {
   "codemirror_mode": {
    "name": "ipython",
    "version": 3
   },
   "file_extension": ".py",
   "mimetype": "text/x-python",
   "name": "python",
   "nbconvert_exporter": "python",
   "pygments_lexer": "ipython3",
   "version": "3.9.12"
  }
 },
 "nbformat": 4,
 "nbformat_minor": 5
}
